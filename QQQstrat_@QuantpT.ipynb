{
 "cells": [
  {
   "cell_type": "code",
   "execution_count": null,
   "id": "121538a7",
   "metadata": {},
   "outputs": [],
   "source": [
    "import numpy as np\n",
    "import matplotlib.pyplot as plt\n",
    "import pandas as pd\n",
    "import quantstats as qs\n",
    "import warnings\n",
    "\n",
    "warnings.filterwarnings(\"ignore\")\n",
    "qs.extend_pandas()"
   ]
  },
  {
   "cell_type": "code",
   "execution_count": null,
   "id": "a332b1d1",
   "metadata": {},
   "outputs": [],
   "source": [
    "def load_daily_data(ticker):\n",
    "    df = pdr.DataReader(ticker, 'yahoo', start = '1996-01-01')[['Open','High','Low','Close','Volume','Adj Close']].reset_index()\n",
    "    df['Ratio'] = df['Adj Close'] / df['Close']\n",
    "    df['Open'] = df['Open'] * df['Ratio']\n",
    "    df['High'] = df['High'] * df['Ratio']\n",
    "    df['Low'] = df['Low'] * df['Ratio']\n",
    "    df['Close'] = df['Close'] * df['Ratio']\n",
    "    df = df.drop(['Ratio', 'Adj Close'], axis = 1)\n",
    "    df.columns = ['date','open','high','low','close','volume']\n",
    "    df = df.set_index(['date'])\n",
    "    df = df.dropna()\n",
    "    \n",
    "    return df"
   ]
  },
  {
   "cell_type": "code",
   "execution_count": null,
   "id": "7bdd29e3",
   "metadata": {},
   "outputs": [],
   "source": [
    "def strategy7(df):\n",
    "    data = df\n",
    "    \n",
    "    LenTrd = 20\n",
    "    Days1 = 5\n",
    "    Days2 = 4\n",
    "    \n",
    "    data['UnboundedDV2'] = (data.close / ((data.high.rolling(LenTrd).max() \n",
    "                                          + data.low.rolling(LenTrd).min())/2)).rolling(Days1).mean() - 1\n",
    "    data['DV2B'] = data.UnboundedDV2.rolling(252).rank(pct = True)\n",
    "    data['MarkInd01'] = np.where(data.DV2B  < data.DV2B.shift(1), 1, 0)\n",
    "    data['MarkInd01'] = data.MarkInd01.rolling(Days2).sum() == Days2\n",
    "    data['Filter01'] = np.abs((data.open - data.close).shift(1)) > (.75 * (data.high - data.low).shift(1))\n",
    "    \n",
    "    data['BUY'] = data.MarkInd01 & data.Filter01\n",
    "    data['SELL'] = data.close > data.high.rolling(5).mean()\n",
    "    \n",
    "    return data"
   ]
  },
  {
   "cell_type": "code",
   "execution_count": null,
   "id": "3fc0a299",
   "metadata": {},
   "outputs": [],
   "source": [
    "def backtest(data, report = False, snapshot = False, dataframe = False):\n",
    "    inPosition = False\n",
    "    buydates, selldates = [], []\n",
    "    for i in range(len(data)-2):\n",
    "        if not inPosition:\n",
    "            if data.iloc[i].BUY:\n",
    "                buydates.append(data.iloc[i + 2].name)\n",
    "                inPosition = True\n",
    "                \n",
    "        if inPosition:\n",
    "            if data.iloc[i].SELL:\n",
    "                selldates.append(data.iloc[i + 2].name)\n",
    "                inPosition = False\n",
    "    \n",
    "    returns = []\n",
    "    \n",
    "    for j in range(min(len(buydates), len(selldates))):\n",
    "        frame = data[(data.index >= buydates[j]) & (data.index <= selldates[j])]\n",
    "        returns.append(frame.open.pct_change().fillna(0))\n",
    "    \n",
    "    dfReturns = pd.concat(returns)\n",
    "    indexdata = pd.DataFrame(index = data.index)\n",
    "    dfReturns = pd.concat([dfReturns, indexdata], axis = 1, ignore_index = False).fillna(0)\n",
    "    \n",
    "    if report == True:\n",
    "        return qs.reports.full(dfReturns.open, 'SPY')\n",
    "    if snapshot == True:\n",
    "        return qs.plots.snapshot(dfReturns.open)\n",
    "    if dataframe == True:\n",
    "        return dfReturns\n",
    "    "
   ]
  },
  {
   "cell_type": "code",
   "execution_count": null,
   "id": "bb03b3c7",
   "metadata": {},
   "outputs": [],
   "source": [
    "QQQ = load_daily_data('QQQ')\n",
    "strat7 = strategy7(QQQ)\n",
    "backtest(data = strat7, report = False, snapshot = True, dataframe = False)"
   ]
  }
 ],
 "metadata": {
  "kernelspec": {
   "display_name": "Python 3 (ipykernel)",
   "language": "python",
   "name": "python3"
  },
  "language_info": {
   "codemirror_mode": {
    "name": "ipython",
    "version": 3
   },
   "file_extension": ".py",
   "mimetype": "text/x-python",
   "name": "python",
   "nbconvert_exporter": "python",
   "pygments_lexer": "ipython3",
   "version": "3.9.12"
  }
 },
 "nbformat": 4,
 "nbformat_minor": 5
}
